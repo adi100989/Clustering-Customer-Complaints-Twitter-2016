{
 "cells": [
  {
   "cell_type": "markdown",
   "metadata": {},
   "source": [
    "# Data Prepration and Feature Extraction"
   ]
  },
  {
   "cell_type": "markdown",
   "metadata": {},
   "source": [
    "- Extracting Reliabilty of each User tweet using its likes and retweets\n",
    "- Extracting Reputation of each User using its fallowers count\n",
    "- Extracting Sentiment of each User tweet using its polarity"
   ]
  },
  {
   "cell_type": "code",
   "execution_count": 1,
   "metadata": {
    "collapsed": true
   },
   "outputs": [],
   "source": [
    "import pandas as pd\n",
    "import openpyxl\n",
    "import xlrd\n",
    "\n",
    "from pandas import ExcelFile"
   ]
  },
  {
   "cell_type": "markdown",
   "metadata": {},
   "source": [
    "## Import Data"
   ]
  },
  {
   "cell_type": "code",
   "execution_count": 2,
   "metadata": {
    "collapsed": false
   },
   "outputs": [],
   "source": [
    "raw_dataset = pd.read_excel(\"../../resources/dataset/tweets.xlsx\")"
   ]
  },
  {
   "cell_type": "code",
   "execution_count": 3,
   "metadata": {
    "collapsed": false
   },
   "outputs": [
    {
     "name": "stdout",
     "output_type": "stream",
     "text": [
      "shape: (1264, 18)\n"
     ]
    }
   ],
   "source": [
    "print \"shape:\", raw_dataset.shape\n",
    "# raw_dataset = raw_dataset.sort(['user_screen_name'], ascending=[1])\n",
    "# print raw_dataset[['retweet_count', 'favorite_count', 'user_screen_name', 'user_followers_count']].head(1000)"
   ]
  },
  {
   "cell_type": "markdown",
   "metadata": {},
   "source": [
    "## User Data Frame\n",
    "\n",
    "- First build map of user to its features then build the data frame"
   ]
  },
  {
   "cell_type": "code",
   "execution_count": 4,
   "metadata": {
    "collapsed": true
   },
   "outputs": [],
   "source": [
    "user_features = {}\n",
    "for idx, row in raw_dataset.iterrows():\n",
    "    username = row.user_screen_name.strip()\n",
    "    \n",
    "    if username not in user_features:\n",
    "        user_features[username] = {}\n",
    "        user_features[username]['likes'] = row.favorite_count\n",
    "        user_features[username]['retweets'] = row.retweet_count\n",
    "        user_features[username]['followers'] = row.user_followers_count\n",
    "        user_features[username]['related_tweets'] = row.related_tweets\n",
    "    else:\n",
    "        user_features[username]['likes'] += row.favorite_count\n",
    "        user_features[username]['retweets'] += row.retweet_count\n",
    "        user_features[username]['followers'] = row.user_followers_count\n",
    "        user_features[username]['related_tweets'] = row.related_tweets"
   ]
  },
  {
   "cell_type": "code",
   "execution_count": 5,
   "metadata": {
    "collapsed": true
   },
   "outputs": [],
   "source": [
    "clean_dataset = pd.DataFrame([i for i in range(0, len(user_features))], columns=[\"id\"])"
   ]
  },
  {
   "cell_type": "code",
   "execution_count": 6,
   "metadata": {
    "collapsed": false
   },
   "outputs": [],
   "source": [
    "usernames_column = []\n",
    "likes_column = []\n",
    "retweets_column = []\n",
    "followers_column = []\n",
    "related_tweets_column = []\n",
    "\n",
    "for username in user_features:\n",
    "    features = user_features[username]\n",
    "    \n",
    "    usernames_column.append(username)\n",
    "    likes_column.append(features['likes'])\n",
    "    retweets_column.append(features['retweets'])\n",
    "    followers_column.append(features['followers'])\n",
    "    related_tweets_column.append(features['related_tweets'])\n",
    "    # print username, features['likes'], features['retweets'], features['followers'], features['related_tweets'][:40]\n",
    "\n",
    "clean_dataset['username'] = usernames_column\n",
    "clean_dataset['likes'] = likes_column\n",
    "clean_dataset['retweets'] = retweets_column\n",
    "clean_dataset['followers'] = followers_column\n",
    "clean_dataset['related_tweets'] = related_tweets_column"
   ]
  },
  {
   "cell_type": "code",
   "execution_count": 7,
   "metadata": {
    "collapsed": false
   },
   "outputs": [
    {
     "name": "stdout",
     "output_type": "stream",
     "text": [
      "(1143, 6)\n"
     ]
    },
    {
     "data": {
      "text/html": [
       "<div>\n",
       "<table border=\"1\" class=\"dataframe\">\n",
       "  <thead>\n",
       "    <tr style=\"text-align: right;\">\n",
       "      <th></th>\n",
       "      <th>id</th>\n",
       "      <th>username</th>\n",
       "      <th>likes</th>\n",
       "      <th>retweets</th>\n",
       "      <th>followers</th>\n",
       "      <th>related_tweets</th>\n",
       "    </tr>\n",
       "  </thead>\n",
       "  <tbody>\n",
       "    <tr>\n",
       "      <th>641</th>\n",
       "      <td>641</td>\n",
       "      <td>lasinger711</td>\n",
       "      <td>2</td>\n",
       "      <td>0</td>\n",
       "      <td>102</td>\n",
       "      <td>a student has created a gripping and nsfw phot...</td>\n",
       "    </tr>\n",
       "  </tbody>\n",
       "</table>\n",
       "</div>"
      ],
      "text/plain": [
       "      id     username  likes  retweets  followers  \\\n",
       "641  641  lasinger711      2         0        102   \n",
       "\n",
       "                                        related_tweets  \n",
       "641  a student has created a gripping and nsfw phot...  "
      ]
     },
     "execution_count": 7,
     "metadata": {},
     "output_type": "execute_result"
    }
   ],
   "source": [
    "print clean_dataset.shape\n",
    "clean_dataset[clean_dataset.username.str.contains('lasinger711')]"
   ]
  },
  {
   "cell_type": "markdown",
   "metadata": {},
   "source": [
    "# Extracting Features"
   ]
  },
  {
   "cell_type": "code",
   "execution_count": 8,
   "metadata": {
    "collapsed": false
   },
   "outputs": [],
   "source": [
    "new_dataset = pd.DataFrame([id for id in clean_dataset.id], columns=[\"id\"])"
   ]
  },
  {
   "cell_type": "markdown",
   "metadata": {},
   "source": [
    "## Extracting reliabilty\n",
    "\n",
    "Using the number of likes, retweets and replays"
   ]
  },
  {
   "cell_type": "code",
   "execution_count": 9,
   "metadata": {
    "collapsed": true
   },
   "outputs": [],
   "source": [
    "def calculate_reliabilty(tweet):\n",
    "    return tweet.retweets*5 + tweet.likes"
   ]
  },
  {
   "cell_type": "code",
   "execution_count": 10,
   "metadata": {
    "collapsed": false
   },
   "outputs": [],
   "source": [
    "new_dataset['reliabilty'] = [calculate_reliabilty(row) for idx, row in clean_dataset.iterrows()]"
   ]
  },
  {
   "cell_type": "code",
   "execution_count": 11,
   "metadata": {
    "collapsed": false
   },
   "outputs": [
    {
     "data": {
      "text/html": [
       "<div>\n",
       "<table border=\"1\" class=\"dataframe\">\n",
       "  <thead>\n",
       "    <tr style=\"text-align: right;\">\n",
       "      <th></th>\n",
       "      <th>id</th>\n",
       "      <th>reliabilty</th>\n",
       "    </tr>\n",
       "  </thead>\n",
       "  <tbody>\n",
       "    <tr>\n",
       "      <th>0</th>\n",
       "      <td>0</td>\n",
       "      <td>0</td>\n",
       "    </tr>\n",
       "    <tr>\n",
       "      <th>1</th>\n",
       "      <td>1</td>\n",
       "      <td>0</td>\n",
       "    </tr>\n",
       "  </tbody>\n",
       "</table>\n",
       "</div>"
      ],
      "text/plain": [
       "   id  reliabilty\n",
       "0   0           0\n",
       "1   1           0"
      ]
     },
     "execution_count": 11,
     "metadata": {},
     "output_type": "execute_result"
    }
   ],
   "source": [
    "new_dataset.head(2)"
   ]
  },
  {
   "cell_type": "markdown",
   "metadata": {},
   "source": [
    "## Extracting popularity\n",
    "\n",
    "Use number of followers of the author of the tweet"
   ]
  },
  {
   "cell_type": "code",
   "execution_count": 12,
   "metadata": {
    "collapsed": false
   },
   "outputs": [],
   "source": [
    "new_dataset['popularity'] = [row.followers for idx, row in clean_dataset.iterrows()]"
   ]
  },
  {
   "cell_type": "code",
   "execution_count": 13,
   "metadata": {
    "collapsed": false
   },
   "outputs": [
    {
     "data": {
      "text/html": [
       "<div>\n",
       "<table border=\"1\" class=\"dataframe\">\n",
       "  <thead>\n",
       "    <tr style=\"text-align: right;\">\n",
       "      <th></th>\n",
       "      <th>id</th>\n",
       "      <th>reliabilty</th>\n",
       "      <th>popularity</th>\n",
       "    </tr>\n",
       "  </thead>\n",
       "  <tbody>\n",
       "    <tr>\n",
       "      <th>0</th>\n",
       "      <td>0</td>\n",
       "      <td>0</td>\n",
       "      <td>528</td>\n",
       "    </tr>\n",
       "    <tr>\n",
       "      <th>1</th>\n",
       "      <td>1</td>\n",
       "      <td>0</td>\n",
       "      <td>477</td>\n",
       "    </tr>\n",
       "  </tbody>\n",
       "</table>\n",
       "</div>"
      ],
      "text/plain": [
       "   id  reliabilty  popularity\n",
       "0   0           0         528\n",
       "1   1           0         477"
      ]
     },
     "execution_count": 13,
     "metadata": {},
     "output_type": "execute_result"
    }
   ],
   "source": [
    "new_dataset.head(2)"
   ]
  },
  {
   "cell_type": "markdown",
   "metadata": {},
   "source": [
    "# Extracting Polarity\n",
    "\n",
    "Using the Hu and Liu (2004) \"opinion lexicon\" "
   ]
  },
  {
   "cell_type": "code",
   "execution_count": 14,
   "metadata": {
    "collapsed": false
   },
   "outputs": [],
   "source": [
    "negative_words = set()\n",
    "with open(\"../../resources/Hu and Liu (2004)/negative-words.txt\") as f:\n",
    "    for line in f.readlines():\n",
    "        if line[0] != ';':\n",
    "            negative_words.add(line.strip())"
   ]
  },
  {
   "cell_type": "code",
   "execution_count": 15,
   "metadata": {
    "collapsed": false
   },
   "outputs": [],
   "source": [
    "positive_words = set()\n",
    "with open(\"../../resources/Hu and Liu (2004)/positive-words.txt\") as f:\n",
    "    for line in f.readlines():\n",
    "        if line[0] != ';':\n",
    "            positive_words.add(line.strip())"
   ]
  },
  {
   "cell_type": "code",
   "execution_count": 16,
   "metadata": {
    "collapsed": false
   },
   "outputs": [],
   "source": [
    "def calculate_polarity(text):\n",
    "    \n",
    "    polarity_score = 0\n",
    "    for word in text.split():\n",
    "        if word in negative_words:\n",
    "            polarity_score -= 1\n",
    "        elif word in positive_words:\n",
    "            polarity_score += 1\n",
    "    # print text.split(), len(negative_words), len(positive_words), polarity_score\n",
    "    return polarity_score"
   ]
  },
  {
   "cell_type": "code",
   "execution_count": 17,
   "metadata": {
    "collapsed": false
   },
   "outputs": [],
   "source": [
    "new_dataset['polarity'] = [calculate_polarity(row.related_tweets) for idx, row in clean_dataset.iterrows()]"
   ]
  },
  {
   "cell_type": "code",
   "execution_count": 18,
   "metadata": {
    "collapsed": false
   },
   "outputs": [
    {
     "data": {
      "text/html": [
       "<div>\n",
       "<table border=\"1\" class=\"dataframe\">\n",
       "  <thead>\n",
       "    <tr style=\"text-align: right;\">\n",
       "      <th></th>\n",
       "      <th>id</th>\n",
       "      <th>reliabilty</th>\n",
       "      <th>popularity</th>\n",
       "      <th>polarity</th>\n",
       "    </tr>\n",
       "  </thead>\n",
       "  <tbody>\n",
       "    <tr>\n",
       "      <th>0</th>\n",
       "      <td>0</td>\n",
       "      <td>0</td>\n",
       "      <td>528</td>\n",
       "      <td>0</td>\n",
       "    </tr>\n",
       "    <tr>\n",
       "      <th>1</th>\n",
       "      <td>1</td>\n",
       "      <td>0</td>\n",
       "      <td>477</td>\n",
       "      <td>0</td>\n",
       "    </tr>\n",
       "    <tr>\n",
       "      <th>2</th>\n",
       "      <td>2</td>\n",
       "      <td>0</td>\n",
       "      <td>188</td>\n",
       "      <td>2</td>\n",
       "    </tr>\n",
       "    <tr>\n",
       "      <th>3</th>\n",
       "      <td>3</td>\n",
       "      <td>0</td>\n",
       "      <td>515</td>\n",
       "      <td>1</td>\n",
       "    </tr>\n",
       "  </tbody>\n",
       "</table>\n",
       "</div>"
      ],
      "text/plain": [
       "   id  reliabilty  popularity  polarity\n",
       "0   0           0         528         0\n",
       "1   1           0         477         0\n",
       "2   2           0         188         2\n",
       "3   3           0         515         1"
      ]
     },
     "execution_count": 18,
     "metadata": {},
     "output_type": "execute_result"
    }
   ],
   "source": [
    "new_dataset.head(4)"
   ]
  },
  {
   "cell_type": "markdown",
   "metadata": {},
   "source": [
    "## Export Data"
   ]
  },
  {
   "cell_type": "code",
   "execution_count": 19,
   "metadata": {
    "collapsed": false
   },
   "outputs": [],
   "source": [
    "import openpyxl\n",
    "from pandas import ExcelWriter\n",
    "\n",
    "writer = ExcelWriter('../../resources/dataset/preprocessedDataset.xlsx')\n",
    "new_dataset.to_excel(writer,'Sheet1')\n",
    "writer.save()"
   ]
  }
 ],
 "metadata": {
  "kernelspec": {
   "display_name": "Python 2",
   "language": "python",
   "name": "python2"
  },
  "language_info": {
   "codemirror_mode": {
    "name": "ipython",
    "version": 2
   },
   "file_extension": ".py",
   "mimetype": "text/x-python",
   "name": "python",
   "nbconvert_exporter": "python",
   "pygments_lexer": "ipython2",
   "version": "2.7.12"
  }
 },
 "nbformat": 4,
 "nbformat_minor": 1
}
