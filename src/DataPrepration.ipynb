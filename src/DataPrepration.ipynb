{
 "cells": [
  {
   "cell_type": "markdown",
   "metadata": {},
   "source": [
    "# Data Prepration"
   ]
  },
  {
   "cell_type": "markdown",
   "metadata": {},
   "source": [
    "- Extracting Reliabilty of each User tweet\n",
    "- Extracting Reputation of each User \n",
    "- Extracting Sentiment of each User tweet"
   ]
  },
  {
   "cell_type": "markdown",
   "metadata": {},
   "source": [
    "## Import Data"
   ]
  },
  {
   "cell_type": "code",
   "execution_count": 1,
   "metadata": {
    "collapsed": false
   },
   "outputs": [],
   "source": [
    "import pandas as pd\n",
    "import openpyxl\n",
    "import xlrd\n",
    "\n",
    "from pandas import ExcelFile"
   ]
  },
  {
   "cell_type": "code",
   "execution_count": 2,
   "metadata": {
    "collapsed": false
   },
   "outputs": [],
   "source": [
    "raw_dataset = pd.read_excel(\"../resources/dataset/tweets.xlsx\")"
   ]
  },
  {
   "cell_type": "code",
   "execution_count": 3,
   "metadata": {
    "collapsed": false
   },
   "outputs": [
    {
     "name": "stdout",
     "output_type": "stream",
     "text": [
      "shape: (700, 17)\n"
     ]
    },
    {
     "data": {
      "text/html": [
       "<div>\n",
       "<table border=\"1\" class=\"dataframe\">\n",
       "  <thead>\n",
       "    <tr style=\"text-align: right;\">\n",
       "      <th></th>\n",
       "      <th>id</th>\n",
       "      <th>text</th>\n",
       "      <th>created_at</th>\n",
       "      <th>retweet_count</th>\n",
       "      <th>favorite_count</th>\n",
       "      <th>is_replay_to</th>\n",
       "      <th>source</th>\n",
       "      <th>user_id</th>\n",
       "      <th>user_screen_name</th>\n",
       "      <th>user_name</th>\n",
       "      <th>user_created_at</th>\n",
       "      <th>user_description</th>\n",
       "      <th>user_followers_count</th>\n",
       "      <th>user_friends_count</th>\n",
       "      <th>favourites_count</th>\n",
       "      <th>statuses_count</th>\n",
       "      <th>user_location</th>\n",
       "    </tr>\n",
       "  </thead>\n",
       "  <tbody>\n",
       "    <tr>\n",
       "      <th>1</th>\n",
       "      <td>798171734918786944</td>\n",
       "      <td>https://t.co/ccslzitMg7 best possible news yet...</td>\n",
       "      <td>2016-11-14 14:32:25</td>\n",
       "      <td>0</td>\n",
       "      <td>0</td>\n",
       "      <td>0</td>\n",
       "      <td>Twitter for Android</td>\n",
       "      <td>1659941960</td>\n",
       "      <td>Tedescop129</td>\n",
       "      <td>Pasquale Tedesco</td>\n",
       "      <td>2013-08-10 11:49:33</td>\n",
       "      <td>NaN</td>\n",
       "      <td>107</td>\n",
       "      <td>277</td>\n",
       "      <td>31</td>\n",
       "      <td>1109</td>\n",
       "      <td>NaN</td>\n",
       "    </tr>\n",
       "    <tr>\n",
       "      <th>2</th>\n",
       "      <td>798027051198546048</td>\n",
       "      <td>16GB is nothing 😒 #AppleSucks</td>\n",
       "      <td>2016-11-14 04:57:30</td>\n",
       "      <td>1</td>\n",
       "      <td>0</td>\n",
       "      <td>0</td>\n",
       "      <td>Twitter for iPhone</td>\n",
       "      <td>1031397014</td>\n",
       "      <td>JordanaSays</td>\n",
       "      <td>Jordana</td>\n",
       "      <td>2012-12-23 21:46:58</td>\n",
       "      <td>NaN</td>\n",
       "      <td>539</td>\n",
       "      <td>361</td>\n",
       "      <td>11363</td>\n",
       "      <td>9539</td>\n",
       "      <td>Pittsburgh, PA</td>\n",
       "    </tr>\n",
       "  </tbody>\n",
       "</table>\n",
       "</div>"
      ],
      "text/plain": [
       "                   id                                               text  \\\n",
       "1  798171734918786944  https://t.co/ccslzitMg7 best possible news yet...   \n",
       "2  798027051198546048                      16GB is nothing 😒 #AppleSucks   \n",
       "\n",
       "           created_at  retweet_count  favorite_count  is_replay_to  \\\n",
       "1 2016-11-14 14:32:25              0               0             0   \n",
       "2 2016-11-14 04:57:30              1               0             0   \n",
       "\n",
       "                source     user_id user_screen_name         user_name  \\\n",
       "1  Twitter for Android  1659941960      Tedescop129  Pasquale Tedesco   \n",
       "2   Twitter for iPhone  1031397014      JordanaSays           Jordana   \n",
       "\n",
       "      user_created_at user_description  user_followers_count  \\\n",
       "1 2013-08-10 11:49:33              NaN                   107   \n",
       "2 2012-12-23 21:46:58              NaN                   539   \n",
       "\n",
       "   user_friends_count  favourites_count  statuses_count   user_location  \n",
       "1                 277                31            1109             NaN  \n",
       "2                 361             11363            9539  Pittsburgh, PA  "
      ]
     },
     "execution_count": 3,
     "metadata": {},
     "output_type": "execute_result"
    }
   ],
   "source": [
    "print \"shape:\", raw_dataset.shape\n",
    "raw_dataset.head(2)"
   ]
  },
  {
   "cell_type": "code",
   "execution_count": 4,
   "metadata": {
    "collapsed": false
   },
   "outputs": [],
   "source": [
    "new_dataset = pd.DataFrame([id for id in raw_dataset.id], columns=[\"id\"])"
   ]
  },
  {
   "cell_type": "markdown",
   "metadata": {},
   "source": [
    "## Extracting reliabilty\n",
    "\n",
    "Using the number of likes, retweets and replays"
   ]
  },
  {
   "cell_type": "code",
   "execution_count": 5,
   "metadata": {
    "collapsed": true
   },
   "outputs": [],
   "source": [
    "def calculate_reliabilty(tweet):\n",
    "    return row.retweet_count*5 + tweet.is_replay_to*3 + row.favorite_count"
   ]
  },
  {
   "cell_type": "code",
   "execution_count": 6,
   "metadata": {
    "collapsed": false
   },
   "outputs": [],
   "source": [
    "new_dataset['reliabilty'] = [calculate_reliabilty(row) for idx, row in raw_dataset.iterrows()]"
   ]
  },
  {
   "cell_type": "code",
   "execution_count": 7,
   "metadata": {
    "collapsed": false
   },
   "outputs": [
    {
     "data": {
      "text/html": [
       "<div>\n",
       "<table border=\"1\" class=\"dataframe\">\n",
       "  <thead>\n",
       "    <tr style=\"text-align: right;\">\n",
       "      <th></th>\n",
       "      <th>id</th>\n",
       "      <th>reliabilty</th>\n",
       "    </tr>\n",
       "  </thead>\n",
       "  <tbody>\n",
       "    <tr>\n",
       "      <th>0</th>\n",
       "      <td>798171734918786944</td>\n",
       "      <td>0</td>\n",
       "    </tr>\n",
       "    <tr>\n",
       "      <th>1</th>\n",
       "      <td>798027051198546048</td>\n",
       "      <td>5</td>\n",
       "    </tr>\n",
       "  </tbody>\n",
       "</table>\n",
       "</div>"
      ],
      "text/plain": [
       "                   id  reliabilty\n",
       "0  798171734918786944           0\n",
       "1  798027051198546048           5"
      ]
     },
     "execution_count": 7,
     "metadata": {},
     "output_type": "execute_result"
    }
   ],
   "source": [
    "new_dataset.head(2)"
   ]
  },
  {
   "cell_type": "markdown",
   "metadata": {},
   "source": [
    "## Extracting popularity\n",
    "\n",
    "Use number of followers of the author of the tweet"
   ]
  },
  {
   "cell_type": "code",
   "execution_count": 8,
   "metadata": {
    "collapsed": false
   },
   "outputs": [],
   "source": [
    "new_dataset['popularity'] = [row.user_followers_count for idx, row in raw_dataset.iterrows()]"
   ]
  },
  {
   "cell_type": "code",
   "execution_count": 9,
   "metadata": {
    "collapsed": false
   },
   "outputs": [
    {
     "data": {
      "text/html": [
       "<div>\n",
       "<table border=\"1\" class=\"dataframe\">\n",
       "  <thead>\n",
       "    <tr style=\"text-align: right;\">\n",
       "      <th></th>\n",
       "      <th>id</th>\n",
       "      <th>reliabilty</th>\n",
       "      <th>popularity</th>\n",
       "    </tr>\n",
       "  </thead>\n",
       "  <tbody>\n",
       "    <tr>\n",
       "      <th>0</th>\n",
       "      <td>798171734918786944</td>\n",
       "      <td>0</td>\n",
       "      <td>107</td>\n",
       "    </tr>\n",
       "    <tr>\n",
       "      <th>1</th>\n",
       "      <td>798027051198546048</td>\n",
       "      <td>5</td>\n",
       "      <td>539</td>\n",
       "    </tr>\n",
       "  </tbody>\n",
       "</table>\n",
       "</div>"
      ],
      "text/plain": [
       "                   id  reliabilty  popularity\n",
       "0  798171734918786944           0         107\n",
       "1  798027051198546048           5         539"
      ]
     },
     "execution_count": 9,
     "metadata": {},
     "output_type": "execute_result"
    }
   ],
   "source": [
    "new_dataset.head(2)"
   ]
  },
  {
   "cell_type": "markdown",
   "metadata": {},
   "source": [
    "# Extracting Polarity\n",
    "\n",
    "Using the Hu and Liu (2004) \"opinion lexicon\" "
   ]
  },
  {
   "cell_type": "code",
   "execution_count": 10,
   "metadata": {
    "collapsed": false
   },
   "outputs": [],
   "source": [
    "negative_words = set()\n",
    "with open(\"../resources/Hu and Liu (2004)/negative-words.txt\") as f:\n",
    "    for line in f.readlines():\n",
    "        if line[0] != ';':\n",
    "            negative_words.add(line.strip())"
   ]
  },
  {
   "cell_type": "code",
   "execution_count": 11,
   "metadata": {
    "collapsed": false
   },
   "outputs": [],
   "source": [
    "positive_words = set()\n",
    "with open(\"../resources/Hu and Liu (2004)/positive-words.txt\") as f:\n",
    "    for line in f.readlines():\n",
    "        if line[0] != ';':\n",
    "            positive_words.add(line.strip())"
   ]
  },
  {
   "cell_type": "code",
   "execution_count": 12,
   "metadata": {
    "collapsed": false
   },
   "outputs": [],
   "source": [
    "def calculate_polarity(text):\n",
    "    \n",
    "    polarity_score = 0\n",
    "    for word in text.split():\n",
    "        if word in negative_words:\n",
    "            polarity_score -= 1\n",
    "        elif word in positive_words:\n",
    "            polarity_score += 1\n",
    "    # print text.split(), len(negative_words), len(positive_words), polarity_score\n",
    "    return polarity_score"
   ]
  },
  {
   "cell_type": "code",
   "execution_count": 13,
   "metadata": {
    "collapsed": false
   },
   "outputs": [],
   "source": [
    "new_dataset['polarity'] = [calculate_polarity(row.text) for idx, row in raw_dataset.iterrows()]"
   ]
  },
  {
   "cell_type": "code",
   "execution_count": 16,
   "metadata": {
    "collapsed": false
   },
   "outputs": [
    {
     "data": {
      "text/html": [
       "<div>\n",
       "<table border=\"1\" class=\"dataframe\">\n",
       "  <thead>\n",
       "    <tr style=\"text-align: right;\">\n",
       "      <th></th>\n",
       "      <th>id</th>\n",
       "      <th>reliabilty</th>\n",
       "      <th>popularity</th>\n",
       "      <th>polarity</th>\n",
       "    </tr>\n",
       "  </thead>\n",
       "  <tbody>\n",
       "    <tr>\n",
       "      <th>0</th>\n",
       "      <td>798171734918786944</td>\n",
       "      <td>0</td>\n",
       "      <td>107</td>\n",
       "      <td>1</td>\n",
       "    </tr>\n",
       "    <tr>\n",
       "      <th>1</th>\n",
       "      <td>798027051198546048</td>\n",
       "      <td>5</td>\n",
       "      <td>539</td>\n",
       "      <td>0</td>\n",
       "    </tr>\n",
       "    <tr>\n",
       "      <th>2</th>\n",
       "      <td>797938783840653056</td>\n",
       "      <td>0</td>\n",
       "      <td>26</td>\n",
       "      <td>-3</td>\n",
       "    </tr>\n",
       "    <tr>\n",
       "      <th>3</th>\n",
       "      <td>797876478843047936</td>\n",
       "      <td>0</td>\n",
       "      <td>133</td>\n",
       "      <td>0</td>\n",
       "    </tr>\n",
       "  </tbody>\n",
       "</table>\n",
       "</div>"
      ],
      "text/plain": [
       "                   id  reliabilty  popularity  polarity\n",
       "0  798171734918786944           0         107         1\n",
       "1  798027051198546048           5         539         0\n",
       "2  797938783840653056           0          26        -3\n",
       "3  797876478843047936           0         133         0"
      ]
     },
     "execution_count": 16,
     "metadata": {},
     "output_type": "execute_result"
    }
   ],
   "source": [
    "new_dataset.head(4)"
   ]
  },
  {
   "cell_type": "markdown",
   "metadata": {},
   "source": [
    "## Export Data"
   ]
  },
  {
   "cell_type": "code",
   "execution_count": 15,
   "metadata": {
    "collapsed": false
   },
   "outputs": [],
   "source": [
    "import openpyxl\n",
    "from pandas import ExcelWriter\n",
    "\n",
    "writer = ExcelWriter('../resources/dataset/preprocessedDataset.xlsx')\n",
    "new_dataset.to_excel(writer,'Sheet1')\n",
    "writer.save()"
   ]
  }
 ],
 "metadata": {
  "kernelspec": {
   "display_name": "Python 2",
   "language": "python",
   "name": "python2"
  },
  "language_info": {
   "codemirror_mode": {
    "name": "ipython",
    "version": 2
   },
   "file_extension": ".py",
   "mimetype": "text/x-python",
   "name": "python",
   "nbconvert_exporter": "python",
   "pygments_lexer": "ipython2",
   "version": "2.7.12"
  }
 },
 "nbformat": 4,
 "nbformat_minor": 1
}
