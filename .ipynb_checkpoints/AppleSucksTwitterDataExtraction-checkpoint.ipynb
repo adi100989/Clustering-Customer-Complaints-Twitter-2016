{
 "cells": [
  {
   "cell_type": "code",
   "execution_count": 1,
   "metadata": {
    "collapsed": true
   },
   "outputs": [],
   "source": [
    "import tweepy\n",
    "import pandas as pd\n",
    "import matplotlib.pyplot as plt\n",
    "\n",
    "pd.options.display.max_columns = 50\n",
    "pd.options.display.max_rows= 50\n",
    "pd.options.display.width= 120"
   ]
  },
  {
   "cell_type": "code",
   "execution_count": 2,
   "metadata": {
    "collapsed": true
   },
   "outputs": [],
   "source": [
    "consumer_key = \"Y9LSrr5Ctyco96MxuB5lVrXLE\" # Use your own key. To get a key https://apps.twitter.com/\n",
    "consumer_secret = \"MZ0ZzvzcyDFQAri4YFQ1NUJIUdyaaKr22YoHt1sdE6yVkUPOk4\"\n",
    "\n",
    "access_token = \"1718965579-EbDVvYloIQWEMdrC62fjSDHnkmjW3a876S33G7h\"\n",
    "access_token_secret = \"fxxW6evy2Gzlxc0k16d4Lckpkd2QQXW2obXFGZh5divHe\"\n",
    "\n",
    "auth = tweepy.OAuthHandler(consumer_key=consumer_key, consumer_secret=consumer_secret)\n",
    "auth.set_access_token(access_token, access_token_secret)\n",
    "\n",
    "api = tweepy.API(auth)"
   ]
  },
  {
   "cell_type": "code",
   "execution_count": 3,
   "metadata": {
    "collapsed": true
   },
   "outputs": [],
   "source": [
    "from bs4 import BeautifulSoup\n",
    "\n",
    "f = open('applesuckstweets.html')\n",
    "html_doc = \"\\n\".join(f.readlines())\n",
    "soup = BeautifulSoup(html_doc, 'html.parser')\n",
    "\n",
    "# html_doc = soup.prettify()\n",
    "# soup = BeautifulSoup(html_doc, 'html.parser')"
   ]
  },
  {
   "cell_type": "code",
   "execution_count": 9,
   "metadata": {
    "collapsed": false
   },
   "outputs": [],
   "source": [
    "links = soup.findAll('a')\n",
    "\n",
    "extracted_tweets = []\n",
    "for link in links:\n",
    "    # print link.attrs\n",
    "    # print type(link)\n",
    "    # print link\n",
    "    if link.has_attr('href'):\n",
    "        href = link['href']\n",
    "    # print href\n",
    "    if 'status' in href:\n",
    "        status_id = href.split(\"/\")[-1]\n",
    "        \n",
    "        if status_id.isdigit():\n",
    "            tweet = api.get_status(status_id)\n",
    "            # print status_id, href\n",
    "            # print tweet.text, \"\\n\"\n",
    "            extracted_tweets.append(tweet)"
   ]
  },
  {
   "cell_type": "code",
   "execution_count": 10,
   "metadata": {
    "collapsed": false
   },
   "outputs": [
    {
     "name": "stdout",
     "output_type": "stream",
     "text": [
      "23\n"
     ]
    }
   ],
   "source": [
    "print len(extracted_tweets)"
   ]
  },
  {
   "cell_type": "code",
   "execution_count": 12,
   "metadata": {
    "collapsed": false
   },
   "outputs": [],
   "source": [
    "def process_tweets(tweets):\n",
    "    id_list = [tweet.id for tweet in tweets]\n",
    "    data_set = pd.DataFrame(id_list, columns=[\"id\"])\n",
    "\n",
    "    # Processing Tweet Data\n",
    "\n",
    "    data_set[\"text\"] = [tweet.text for tweet in tweets]\n",
    "    data_set[\"created_at\"] = [tweet.created_at for tweet in tweets]\n",
    "    data_set[\"retweet_count\"] = [tweet.retweet_count for tweet in tweets]\n",
    "    data_set[\"favorite_count\"] = [tweet.favorite_count for tweet in tweets]\n",
    "    data_set[\"source\"] = [tweet.source for tweet in tweets]\n",
    "\n",
    "    # Processing User Data\n",
    "    data_set[\"user_id\"] = [tweet.author.id for tweet in tweets]\n",
    "    data_set[\"user_screen_name\"] = [tweet.author.screen_name for tweet in tweets]\n",
    "    data_set[\"user_name\"] = [tweet.author.name for tweet in tweets]\n",
    "    data_set[\"user_created_at\"] = [tweet.author.created_at for tweet in tweets]\n",
    "    data_set[\"user_description\"] = [tweet.author.description for tweet in tweets]\n",
    "    data_set[\"user_followers_count\"] = [tweet.author.followers_count for tweet in tweets]\n",
    "    data_set[\"user_friends_count\"] = [tweet.author.friends_count for tweet in tweets]\n",
    "    data_set[\"user_location\"] = [tweet.author.location for tweet in tweets]\n",
    "\n",
    "    return data_set\n",
    "\n",
    "data_set = process_tweets(extracted_tweets)"
   ]
  },
  {
   "cell_type": "code",
   "execution_count": 16,
   "metadata": {
    "collapsed": false
   },
   "outputs": [
    {
     "data": {
      "text/html": [
       "<div>\n",
       "<table border=\"1\" class=\"dataframe\">\n",
       "  <thead>\n",
       "    <tr style=\"text-align: right;\">\n",
       "      <th></th>\n",
       "      <th>id</th>\n",
       "      <th>text</th>\n",
       "      <th>created_at</th>\n",
       "      <th>retweet_count</th>\n",
       "      <th>favorite_count</th>\n",
       "      <th>source</th>\n",
       "      <th>user_id</th>\n",
       "      <th>user_screen_name</th>\n",
       "      <th>user_name</th>\n",
       "      <th>user_created_at</th>\n",
       "      <th>user_description</th>\n",
       "      <th>user_followers_count</th>\n",
       "      <th>user_friends_count</th>\n",
       "      <th>user_location</th>\n",
       "    </tr>\n",
       "  </thead>\n",
       "  <tbody>\n",
       "    <tr>\n",
       "      <th>0</th>\n",
       "      <td>797070427235360768</td>\n",
       "      <td>Why does apple insist on me verifying my payme...</td>\n",
       "      <td>2016-11-11 13:36:13</td>\n",
       "      <td>0</td>\n",
       "      <td>0</td>\n",
       "      <td>Twitter for Android</td>\n",
       "      <td>226179201</td>\n",
       "      <td>DavidWreathall</td>\n",
       "      <td>David Wreathall</td>\n",
       "      <td>2010-12-13 14:36:44</td>\n",
       "      <td>Co-Founder of Inner Flame, an organisation whi...</td>\n",
       "      <td>317</td>\n",
       "      <td>183</td>\n",
       "      <td>Swindon, Wiltshire, UK</td>\n",
       "    </tr>\n",
       "  </tbody>\n",
       "</table>\n",
       "</div>"
      ],
      "text/plain": [
       "                   id                                               text          created_at  retweet_count  \\\n",
       "0  797070427235360768  Why does apple insist on me verifying my payme... 2016-11-11 13:36:13              0   \n",
       "\n",
       "   favorite_count               source    user_id user_screen_name        user_name     user_created_at  \\\n",
       "0               0  Twitter for Android  226179201   DavidWreathall  David Wreathall 2010-12-13 14:36:44   \n",
       "\n",
       "                                    user_description  user_followers_count  user_friends_count           user_location  \n",
       "0  Co-Founder of Inner Flame, an organisation whi...                   317                 183  Swindon, Wiltshire, UK  "
      ]
     },
     "execution_count": 16,
     "metadata": {},
     "output_type": "execute_result"
    }
   ],
   "source": [
    "data_set.head(1)"
   ]
  },
  {
   "cell_type": "code",
   "execution_count": 17,
   "metadata": {
    "collapsed": true
   },
   "outputs": [],
   "source": [
    "import openpyxl\n",
    "from pandas import ExcelWriter\n",
    "\n",
    "writer = ExcelWriter('tweets.xlsx')\n",
    "data_set.to_excel(writer,'Sheet5')\n",
    "writer.save()"
   ]
  }
 ],
 "metadata": {
  "kernelspec": {
   "display_name": "Python 2",
   "language": "python",
   "name": "python2"
  },
  "language_info": {
   "codemirror_mode": {
    "name": "ipython",
    "version": 2
   },
   "file_extension": ".py",
   "mimetype": "text/x-python",
   "name": "python",
   "nbconvert_exporter": "python",
   "pygments_lexer": "ipython2",
   "version": "2.7.12"
  }
 },
 "nbformat": 4,
 "nbformat_minor": 1
}
